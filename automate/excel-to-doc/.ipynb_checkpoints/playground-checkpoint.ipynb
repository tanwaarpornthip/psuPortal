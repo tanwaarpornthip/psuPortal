{
 "cells": [
  {
   "cell_type": "code",
   "execution_count": 1,
   "metadata": {},
   "outputs": [],
   "source": [
    "# Importing necessary packages\n",
    "import docx\n",
    "import pandas as pd"
   ]
  },
  {
   "cell_type": "code",
   "execution_count": 3,
   "metadata": {},
   "outputs": [],
   "source": [
    "document = docx.Document('test_template.docx')\n",
    "document.save('new_template.docx')"
   ]
  },
  {
   "cell_type": "code",
   "execution_count": 20,
   "metadata": {},
   "outputs": [],
   "source": [
    "def replace_string(filename, old_text, new_text):\n",
    "    doc = docx.Document(filename)\n",
    "    for p in doc.paragraphs:\n",
    "        if old_text in p.text:\n",
    "            inline = p.runs\n",
    "            # Loop added to work with runs (strings with same style)\n",
    "            for i in range(len(inline)):\n",
    "                if old_text in inline[i].text:\n",
    "                    text = inline[i].text.replace(old_text, new_text)\n",
    "                    inline[i].text = text\n",
    "            print(p.text)\n",
    "    for table in doc.tables:\n",
    "        for row in table.rows:\n",
    "            for cell in row:\n",
    "                for p in cell.paragraphs:\n",
    "                    if old_text in p.text:\n",
    "                        inline = p.runs\n",
    "                        # Loop added to work with runs (strings with same style)\n",
    "                        for i in range(len(inline)):\n",
    "                            if old_text in inline[i].text:\n",
    "                                text = inline[i].text.replace(old_text, new_text)\n",
    "                                inline[i].text = text\n",
    "                        print(p.text)\n",
    "    doc.save('dest1.docx')\n",
    "    return 0"
   ]
  },
  {
   "cell_type": "code",
   "execution_count": 21,
   "metadata": {},
   "outputs": [
    {
     "ename": "TypeError",
     "evalue": "'method' object is not iterable",
     "output_type": "error",
     "traceback": [
      "\u001b[0;31m---------------------------------------------------------------------------\u001b[0m",
      "\u001b[0;31mTypeError\u001b[0m                                 Traceback (most recent call last)",
      "\u001b[0;32m<ipython-input-21-1943fc083d31>\u001b[0m in \u001b[0;36m<module>\u001b[0;34m\u001b[0m\n\u001b[0;32m----> 1\u001b[0;31m \u001b[0mreplace_string\u001b[0m\u001b[0;34m(\u001b[0m\u001b[0;34m'test_template.docx'\u001b[0m\u001b[0;34m,\u001b[0m\u001b[0;34m'[Cost]'\u001b[0m\u001b[0;34m,\u001b[0m\u001b[0;34m'34.234'\u001b[0m\u001b[0;34m)\u001b[0m\u001b[0;34m\u001b[0m\u001b[0;34m\u001b[0m\u001b[0m\n\u001b[0m",
      "\u001b[0;32m<ipython-input-20-26a5bc5aba89>\u001b[0m in \u001b[0;36mreplace_string\u001b[0;34m(filename, old_text, new_text)\u001b[0m\n\u001b[1;32m     11\u001b[0m             \u001b[0mprint\u001b[0m\u001b[0;34m(\u001b[0m\u001b[0mp\u001b[0m\u001b[0;34m.\u001b[0m\u001b[0mtext\u001b[0m\u001b[0;34m)\u001b[0m\u001b[0;34m\u001b[0m\u001b[0;34m\u001b[0m\u001b[0m\n\u001b[1;32m     12\u001b[0m     \u001b[0;32mfor\u001b[0m \u001b[0mtable\u001b[0m \u001b[0;32min\u001b[0m \u001b[0mdoc\u001b[0m\u001b[0;34m.\u001b[0m\u001b[0mtables\u001b[0m\u001b[0;34m:\u001b[0m\u001b[0;34m\u001b[0m\u001b[0;34m\u001b[0m\u001b[0m\n\u001b[0;32m---> 13\u001b[0;31m         \u001b[0;32mfor\u001b[0m \u001b[0mcell\u001b[0m \u001b[0;32min\u001b[0m \u001b[0mtable\u001b[0m\u001b[0;34m.\u001b[0m\u001b[0mcell\u001b[0m\u001b[0;34m:\u001b[0m\u001b[0;34m\u001b[0m\u001b[0;34m\u001b[0m\u001b[0m\n\u001b[0m\u001b[1;32m     14\u001b[0m             \u001b[0;32mfor\u001b[0m \u001b[0mp\u001b[0m \u001b[0;32min\u001b[0m \u001b[0mcell\u001b[0m\u001b[0;34m.\u001b[0m\u001b[0mparagraphs\u001b[0m\u001b[0;34m:\u001b[0m\u001b[0;34m\u001b[0m\u001b[0;34m\u001b[0m\u001b[0m\n\u001b[1;32m     15\u001b[0m                 \u001b[0;32mif\u001b[0m \u001b[0mold_text\u001b[0m \u001b[0;32min\u001b[0m \u001b[0mp\u001b[0m\u001b[0;34m.\u001b[0m\u001b[0mtext\u001b[0m\u001b[0;34m:\u001b[0m\u001b[0;34m\u001b[0m\u001b[0;34m\u001b[0m\u001b[0m\n",
      "\u001b[0;31mTypeError\u001b[0m: 'method' object is not iterable"
     ]
    }
   ],
   "source": [
    "replace_string('test_template.docx','[Cost]','34.234')"
   ]
  },
  {
   "cell_type": "code",
   "execution_count": 19,
   "metadata": {},
   "outputs": [
    {
     "data": {
      "text/plain": [
       "[<bound method Table.cell of <docx.table.Table object at 0x114ca64a8>>,\n",
       " <bound method Table.cell of <docx.table.Table object at 0x114ca6a20>>,\n",
       " <bound method Table.cell of <docx.table.Table object at 0x114ca6a58>>,\n",
       " <bound method Table.cell of <docx.table.Table object at 0x114ca6a90>>]"
      ]
     },
     "execution_count": 19,
     "metadata": {},
     "output_type": "execute_result"
    }
   ],
   "source": [
    "[x.cell for x in document.tables]"
   ]
  },
  {
   "cell_type": "code",
   "execution_count": null,
   "metadata": {},
   "outputs": [],
   "source": []
  }
 ],
 "metadata": {
  "kernelspec": {
   "display_name": "Python 3",
   "language": "python",
   "name": "python3"
  },
  "language_info": {
   "codemirror_mode": {
    "name": "ipython",
    "version": 3
   },
   "file_extension": ".py",
   "mimetype": "text/x-python",
   "name": "python",
   "nbconvert_exporter": "python",
   "pygments_lexer": "ipython3",
   "version": "3.7.1"
  }
 },
 "nbformat": 4,
 "nbformat_minor": 2
}

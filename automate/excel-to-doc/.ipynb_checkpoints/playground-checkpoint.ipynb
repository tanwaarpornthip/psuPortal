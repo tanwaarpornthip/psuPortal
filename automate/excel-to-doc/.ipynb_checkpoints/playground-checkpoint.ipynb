{
 "cells": [
  {
   "cell_type": "code",
   "execution_count": 1,
   "metadata": {},
   "outputs": [],
   "source": [
    "# Importing necessary packages\n",
    "import docx\n",
    "import pandas as pd"
   ]
  },
  {
   "cell_type": "code",
   "execution_count": 91,
   "metadata": {},
   "outputs": [],
   "source": [
    "change_dict = {\n",
    "    'DATE': '10 ตุลาคม 2562',\n",
    "    'ORGANIZATION': 'คณะเทคโนโลยีและสิ่งแวดล้อม',\n",
    "    'ITEM': 'ดินสอกด',\n",
    "    'QUANTITY': '50',\n",
    "    'UNIT': 'แท่ง',\n",
    "    'PRICE': '5',\n",
    "    'COST': '25',\n",
    "    'COST_TEXT': 'ยี่สิบห้าบาท'\n",
    "}"
   ]
  },
  {
   "cell_type": "code",
   "execution_count": 92,
   "metadata": {},
   "outputs": [],
   "source": [
    "document = docx.Document('test_template.docx')"
   ]
  },
  {
   "cell_type": "code",
   "execution_count": 93,
   "metadata": {},
   "outputs": [],
   "source": [
    "def replace_string(document, old_text, new_text):\n",
    "    doc = document\n",
    "    for p in doc.paragraphs:\n",
    "        if old_text in p.text:\n",
    "            inline = p.runs\n",
    "            # Loop added to work with runs (strings with same style)\n",
    "            for i in range(len(inline)):\n",
    "                if old_text in inline[i].text:\n",
    "                    text = inline[i].text.replace(old_text, new_text)\n",
    "                    inline[i].text = text\n",
    "            #print(p.text)\n",
    "    for table in doc.tables:\n",
    "        for row in table.rows:\n",
    "            for cell in row.cells:\n",
    "                for p in cell.paragraphs:\n",
    "                    if old_text in p.text:\n",
    "                        inline = p.runs\n",
    "                        # Loop added to work with runs (strings with same style)\n",
    "                        for i in range(len(inline)):\n",
    "                            if old_text in inline[i].text:\n",
    "                                text = inline[i].text.replace(old_text, new_text)\n",
    "                                inline[i].text = text\n",
    "                        #print(p.text)\n",
    "    return document"
   ]
  },
  {
   "cell_type": "code",
   "execution_count": 94,
   "metadata": {},
   "outputs": [
    {
     "name": "stdout",
     "output_type": "stream",
     "text": [
      "ลงวันที่ 10 ตุลาคม 2562\n",
      "     ด้วยคณะเทคโนโลยีและสิ่งแวดล้อม มีความประสงค์ที่จะใช้พัสดุด้านล่างนี้ เพื่อใช้[ITEM]ในการเรียนการสอน เอกสารงานด้านบริหาร เอกสารงานบริการวิชาการ เอกสารด้านการเงิน เอกสารด้านพัสดุ เอกสารประกอบการจัดทำข้อสอบประจำภาคการศึกษา โครงการสอบวัดความรู้วิทย์-คณิต ประจำปี 2563 (งาน ม.อ. วิชาการ ประจำปี 2563) รวมถึงเอกสารอื่นๆ จำนวน 3 เดือน ตั้งแต่เดือนตุลาคม 2562 ถึงเดือนธันวาคม 2562 ของสำนักงานคณบดีและคณาจารย์คณะเทคโนโลยีและสิ่งแวดล้อม ดังรายการต่อไปนี้\n",
      "     ด้วยคณะเทคโนโลยีและสิ่งแวดล้อม มีความประสงค์ที่จะใช้พัสดุด้านล่างนี้ เพื่อใช้[ITEM]ในการเรียนการสอน เอกสารงานด้านบริหาร เอกสารงานบริการวิชาการ เอกสารด้านการเงิน เอกสารด้านพัสดุ เอกสารประกอบการจัดทำข้อสอบประจำภาคการศึกษา โครงการสอบวัดความรู้วิทย์-คณิต ประจำปี 2563 (งาน ม.อ. วิชาการ ประจำปี 2563) รวมถึงเอกสารอื่นๆ จำนวน 3 เดือน ตั้งแต่เดือนตุลาคม 2562 ถึงเดือนธันวาคม 2562 ของสำนักงานคณบดีและคณาจารย์คณะเทคโนโลยีและสิ่งแวดล้อม ดังรายการต่อไปนี้\n",
      "ดินสอกด\n",
      "50\n",
      "แท่ง\n",
      "5\n",
      "25\n",
      "25\n",
      "รวมเป็นเงินทั้งสิ้น (ยี่สิบห้าบาท)\n"
     ]
    }
   ],
   "source": [
    "new_doc = document\n",
    "for change_entry in change_dict:\n",
    "    full_entry = '['+change_entry+']'\n",
    "    new_string = change_dict[change_entry]\n",
    "    new_doc = replace_string(new_doc,full_entry,new_string)\n",
    "new_doc.save('output.docx')"
   ]
  },
  {
   "cell_type": "code",
   "execution_count": null,
   "metadata": {},
   "outputs": [],
   "source": []
  }
 ],
 "metadata": {
  "kernelspec": {
   "display_name": "Python 3",
   "language": "python",
   "name": "python3"
  },
  "language_info": {
   "codemirror_mode": {
    "name": "ipython",
    "version": 3
   },
   "file_extension": ".py",
   "mimetype": "text/x-python",
   "name": "python",
   "nbconvert_exporter": "python",
   "pygments_lexer": "ipython3",
   "version": "3.7.1"
  }
 },
 "nbformat": 4,
 "nbformat_minor": 2
}

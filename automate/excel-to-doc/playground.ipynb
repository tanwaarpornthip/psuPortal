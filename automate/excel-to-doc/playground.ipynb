{
 "cells": [
  {
   "cell_type": "code",
   "execution_count": 1,
   "metadata": {},
   "outputs": [],
   "source": [
    "# Importing necessary packages\n",
    "import docx\n",
    "import pandas as pd"
   ]
  },
  {
   "cell_type": "code",
   "execution_count": 43,
   "metadata": {},
   "outputs": [],
   "source": [
    "document = docx.Document('test_template.docx')"
   ]
  },
  {
   "cell_type": "code",
   "execution_count": 44,
   "metadata": {},
   "outputs": [],
   "source": [
    "def replace_string(document, old_text, new_text):\n",
    "    doc = document\n",
    "    for p in doc.paragraphs:\n",
    "        if old_text in p.text:\n",
    "            inline = p.runs\n",
    "            # Loop added to work with runs (strings with same style)\n",
    "            for i in range(len(inline)):\n",
    "                if old_text in inline[i].text:\n",
    "                    text = inline[i].text.replace(old_text, new_text)\n",
    "                    inline[i].text = text\n",
    "            print(p.text)\n",
    "    for table in doc.tables:\n",
    "        for row in table.rows:\n",
    "            for cell in row.cells:\n",
    "                for p in cell.paragraphs:\n",
    "                    if old_text in p.text:\n",
    "                        inline = p.runs\n",
    "                        # Loop added to work with runs (strings with same style)\n",
    "                        for i in range(len(inline)):\n",
    "                            if old_text in inline[i].text:\n",
    "                                text = inline[i].text.replace(old_text, new_text)\n",
    "                                inline[i].text = text\n",
    "                        print(p.text)\n",
    "    return document"
   ]
  },
  {
   "cell_type": "code",
   "execution_count": 45,
   "metadata": {},
   "outputs": [
    {
     "name": "stdout",
     "output_type": "stream",
     "text": [
      "34.34\n",
      "     ด้วยWhat? มีความประสงค์ที่จะใช้พัสดุด้านล่างนี้ เพื่อใช้[Items]การเรียนการสอน เอกสารงานด้านบริหาร เอกสารงานบริการวิชาการ เอกสารด้านการเงิน เอกสารด้านพัสดุ เอกสารประกอบการจัดทำข้อสอบประจำภาคการศึกษา โครงการสอบวัดความรู้วิทย์-คณิต ประจำปี 2563 (งาน ม.อ. วิชาการ ประจำปี 2563) รวมถึงเอกสารอื่นๆ จำนวน 3 เดือน ตั้งแต่เดือนตุลาคม 2562 ถึงเดือนธันวาคม 2562 ของสำนักงานคณบดีและคณาจารย์คณะเทคโนโลยีและสิ่งแวดล้อม ดังรายการต่อไปนี้\n",
      "ลงวันที่ 2010-10-02\n"
     ]
    }
   ],
   "source": [
    "new_doc = replace_string(document,'[Quantity]','34.34')\n",
    "new_doc = replace_string(new_doc,'[Category]','What?')\n",
    "new_doc = replace_string(new_doc,'[Date]','2010-10-02')\n",
    "new_doc.save('dest1.docx')"
   ]
  },
  {
   "cell_type": "code",
   "execution_count": 19,
   "metadata": {},
   "outputs": [
    {
     "data": {
      "text/plain": [
       "[<bound method Table.cell of <docx.table.Table object at 0x114ca64a8>>,\n",
       " <bound method Table.cell of <docx.table.Table object at 0x114ca6a20>>,\n",
       " <bound method Table.cell of <docx.table.Table object at 0x114ca6a58>>,\n",
       " <bound method Table.cell of <docx.table.Table object at 0x114ca6a90>>]"
      ]
     },
     "execution_count": 19,
     "metadata": {},
     "output_type": "execute_result"
    }
   ],
   "source": [
    "[x.cell for x in document.tables]"
   ]
  },
  {
   "cell_type": "code",
   "execution_count": null,
   "metadata": {},
   "outputs": [],
   "source": []
  }
 ],
 "metadata": {
  "kernelspec": {
   "display_name": "Python 3",
   "language": "python",
   "name": "python3"
  },
  "language_info": {
   "codemirror_mode": {
    "name": "ipython",
    "version": 3
   },
   "file_extension": ".py",
   "mimetype": "text/x-python",
   "name": "python",
   "nbconvert_exporter": "python",
   "pygments_lexer": "ipython3",
   "version": "3.7.1"
  }
 },
 "nbformat": 4,
 "nbformat_minor": 2
}
